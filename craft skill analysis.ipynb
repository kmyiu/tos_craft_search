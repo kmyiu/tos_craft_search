{
 "cells": [
  {
   "cell_type": "code",
   "execution_count": null,
   "metadata": {},
   "outputs": [],
   "source": [
    "import pandas as pd\n",
    "import numpy as np\n",
    "import re"
   ]
  },
  {
   "cell_type": "code",
   "execution_count": null,
   "metadata": {},
   "outputs": [],
   "source": [
    "df_crafts = pd.read_csv('crafts.csv', encoding='utf-8')\n",
    "display(df_crafts.tail())"
   ]
  },
  {
   "cell_type": "code",
   "execution_count": null,
   "metadata": {},
   "outputs": [],
   "source": [
    "def find_skill_type(str):\n",
    "    skill_dict = set()\n",
    "    isok = False\n",
    "    skill_type = ['攻擊力(.*)提升', '回復力(.*)提升', '回復(.*)生命力','轉化為我方生命力',\n",
    "                  '轉化(.*)符石', '屬性相剋', 'CD', \n",
    "                  '減少所受傷害', '迴避', '所受傷害不會使你死亡', '延遲',\n",
    "                  '造成(.*)', '造成(.*)此傷害無視防禦力',\n",
    "                  '無視(.*)指定形狀盾', '無視(.*)五屬盾', '無視(.*)攻前盾',\n",
    "                  '防禦力下降', '無視全體敵人(.*)防禦力', '追打', '反擊', '單體攻擊轉化為全體攻擊']\n",
    "    for i in range(len(skill_type)):\n",
    "        skill = skill_type[i]\n",
    "        pattern_detail = r'(.*)' + skill + r'(.*)'\n",
    "        str2 = re.search(pattern_detail, str)\n",
    "        if str2 is not None:\n",
    "            skill_dict.add(skill)\n",
    "    return skill_dict"
   ]
  },
  {
   "cell_type": "code",
   "execution_count": null,
   "metadata": {},
   "outputs": [],
   "source": [
    "for index, row in df_crafts.iterrows():\n",
    "    print(row['id'])\n",
    "    skill_set = set()\n",
    "    skill_str = row['skill1']\n",
    "    print(skill_str)\n",
    "    skill_set |= find_skill_type(skill_str)\n",
    "    skill_str = row['skill2']\n",
    "    if isinstance(skill_str, str) is True:\n",
    "        skill_set |= find_skill_type(skill_str)\n",
    "        print(skill_str)\n",
    "    skill_str = row['skill3']\n",
    "    if isinstance(skill_str, str) is True:\n",
    "        skill_set |= find_skill_type(skill_str)\n",
    "        print(skill_str)\n",
    "    print(skill_set)\n",
    "    for skill_type in skill_set:\n",
    "        df_crafts.at[index,skill_type] = 1"
   ]
  },
  {
   "cell_type": "code",
   "execution_count": null,
   "metadata": {},
   "outputs": [],
   "source": [
    "# display(df_crafts)\n",
    "df_crafts.to_csv('crafts_classified.csv', encoding='utf-8')"
   ]
  },
  {
   "cell_type": "code",
   "execution_count": null,
   "metadata": {},
   "outputs": [],
   "source": [
    "# from IPython.display import display, HTML\n",
    "# display(HTML(df_crafts.to_html()))"
   ]
  },
  {
   "cell_type": "markdown",
   "metadata": {},
   "source": [
    "## Check whether all skills are classified"
   ]
  },
  {
   "cell_type": "code",
   "execution_count": null,
   "metadata": {},
   "outputs": [],
   "source": [
    "def check_skill_type(str):\n",
    "    isok = False\n",
    "    skill_type = ['攻擊力(.*)提升', '回復力(.*)提升', '回復(.*)生命力','轉化為我方生命力',\n",
    "                  '轉化(.*)符石', '屬性相剋', 'CD', \n",
    "                  '減少所受傷害', '迴避', '所受傷害不會使你死亡', '延遲',\n",
    "                  '防禦力減少', '造成(.*)', '造成(.*)此傷害無視防禦力',\n",
    "                  '無視(.*)指定形狀盾', '無視(.*)五屬盾', '無視(.*)攻前盾',\n",
    "                  '防禦力下降', '無視全體敵人(.*)防禦力', '追打', '反擊', '單體攻擊轉化為全體攻擊']\n",
    "    for i in range(len(skill_type)):\n",
    "        skill = skill_type[i]\n",
    "        pattern_detail = r'(.*)' + skill + r'(.*)'\n",
    "        str2 = re.search(pattern_detail, str)\n",
    "        if str2 is not None:\n",
    "            isok = True\n",
    "#             print(skill)\n",
    "    return isok"
   ]
  },
  {
   "cell_type": "code",
   "execution_count": null,
   "metadata": {
    "scrolled": true
   },
   "outputs": [],
   "source": [
    "s1 = pd.Series(df_crafts['skill1'])\n",
    "s2 = pd.Series(df_crafts['skill2'])\n",
    "s3 = pd.Series(df_crafts['skill3'])\n",
    "s4 = pd.concat([s1, s2, s3])\n",
    "s5 = s4.unique()\n",
    "# len(s5)\n",
    "# display(s5)"
   ]
  },
  {
   "cell_type": "code",
   "execution_count": null,
   "metadata": {},
   "outputs": [],
   "source": [
    "for skill in s5:\n",
    "    if isinstance(skill, str) is False:\n",
    "        continue\n",
    "    if check_skill_type(skill) is False:\n",
    "        print(skill)\n",
    "        print('**\\n NOT Classified\\n**\\n')"
   ]
  },
  {
   "cell_type": "code",
   "execution_count": null,
   "metadata": {},
   "outputs": [],
   "source": []
  }
 ],
 "metadata": {
  "kernelspec": {
   "display_name": "Python 3",
   "language": "python",
   "name": "python3"
  },
  "language_info": {
   "codemirror_mode": {
    "name": "ipython",
    "version": 3
   },
   "file_extension": ".py",
   "mimetype": "text/x-python",
   "name": "python",
   "nbconvert_exporter": "python",
   "pygments_lexer": "ipython3",
   "version": "3.7.5"
  }
 },
 "nbformat": 4,
 "nbformat_minor": 2
}
