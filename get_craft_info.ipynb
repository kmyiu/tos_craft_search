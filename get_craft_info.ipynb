{
 "cells": [
  {
   "cell_type": "code",
   "execution_count": null,
   "metadata": {},
   "outputs": [],
   "source": [
    "import re\n",
    "import pandas as pd\n",
    "from bs4 import BeautifulSoup\n",
    "from requests_futures.sessions import FuturesSession"
   ]
  },
  {
   "cell_type": "code",
   "execution_count": null,
   "metadata": {},
   "outputs": [],
   "source": [
    "props = ['id', 'name', 'attr', 'rare', 'race', 'mode', 'skill1', 'skill2', 'skill3', 'charge']"
   ]
  },
  {
   "cell_type": "code",
   "execution_count": null,
   "metadata": {},
   "outputs": [],
   "source": [
    "def get_craft_data(str_C):\n",
    "    url = \"https://tos.fandom.com/zh/api.php\"\n",
    "    params_querypage = {\n",
    "        \"action\": \"query\",\n",
    "        \"prop\": \"revisions\",\n",
    "        \"titles\": \"Template:C\" + str_C,\n",
    "        \"rvslots\" : \"main\",\n",
    "        \"rvprop\": \"content\",\n",
    "        \"format\": \"json\"\n",
    "    }\n",
    "    r = session.post(url, data=params_querypage)\n",
    "    return r"
   ]
  },
  {
   "cell_type": "code",
   "execution_count": null,
   "metadata": {},
   "outputs": [],
   "source": [
    "def get_craft_desc(r):\n",
    "    try:\n",
    "        page = list(r.json()['query']['pages'].values())[0]\n",
    "        craft_info = page['revisions'][0]['slots']['main']['*']\n",
    "        dict_craft = {}\n",
    "        for prop in props:\n",
    "            pattern_prop = prop + r'.*=.*\\n'\n",
    "            str_prop = re.search(pattern_prop, craft_info)\n",
    "            if prop == 'name' and str_prop is None:\n",
    "                return None\n",
    "            if str_prop is not None:\n",
    "                str_prop = str_prop[0]\n",
    "                str_prop = get_desc_details(str_prop)\n",
    "            else:\n",
    "                str_prop = ''\n",
    "            dict_craft[prop] = str_prop\n",
    "        df_crafts = pd.Series(dict_craft, index = dict_craft.keys()) \n",
    "        return df_crafts\n",
    "    except:\n",
    "        return None"
   ]
  },
  {
   "cell_type": "code",
   "execution_count": null,
   "metadata": {},
   "outputs": [],
   "source": [
    "def get_desc_details(str):\n",
    "    pattern_detail = r'= (.*)\\n'\n",
    "    str = re.search(pattern_detail, str)\n",
    "    if str is None:\n",
    "        str = ''\n",
    "    else:\n",
    "        str = str.group(1)\n",
    "    pattern_detail = r'(.*)\\t'\n",
    "    str2 = re.search(pattern_detail, str)\n",
    "    if str2 is None:\n",
    "        pass\n",
    "    else:\n",
    "        str = str2.group(1)\n",
    "    return str"
   ]
  },
  {
   "cell_type": "code",
   "execution_count": null,
   "metadata": {
    "scrolled": true
   },
   "outputs": [],
   "source": [
    "df_crafts = pd.DataFrame()\n",
    "urlquery = list()\n",
    "session = FuturesSession(max_workers=20)\n",
    "for C_n in range(1,500):\n",
    "    if C_n < 10:\n",
    "        str_C = str(C_n).zfill(2)\n",
    "    else:\n",
    "        str_C = str(C_n)\n",
    "    urlquery.append( (str_C, get_craft_data(str_C)) )\n",
    "for (str_C, res) in urlquery:\n",
    "    res = res.result()\n",
    "    df_craft = get_craft_desc(res)\n",
    "    if df_craft is not None:\n",
    "        df_crafts = df_crafts.append(df_craft, ignore_index=True)\n",
    "display(df_crafts)\n",
    "df_crafts.to_csv('crafts.csv', encoding='utf-8', index=False)"
   ]
  },
  {
   "cell_type": "code",
   "execution_count": null,
   "metadata": {},
   "outputs": [],
   "source": []
  },
  {
   "cell_type": "code",
   "execution_count": null,
   "metadata": {},
   "outputs": [],
   "source": [
    "# # show obtained data\n",
    "# df2 = pd.read_csv('crafts.csv', encoding='utf-8')\n",
    "# display(df2)"
   ]
  }
 ],
 "metadata": {
  "kernelspec": {
   "display_name": "Python 3",
   "language": "python",
   "name": "python3"
  },
  "language_info": {
   "codemirror_mode": {
    "name": "ipython",
    "version": 3
   },
   "file_extension": ".py",
   "mimetype": "text/x-python",
   "name": "python",
   "nbconvert_exporter": "python",
   "pygments_lexer": "ipython3",
   "version": "3.7.5"
  }
 },
 "nbformat": 4,
 "nbformat_minor": 2
}
