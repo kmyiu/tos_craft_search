{
 "cells": [
  {
   "cell_type": "code",
   "execution_count": 1,
   "metadata": {},
   "outputs": [],
   "source": [
    "import pandas as pd\n",
    "import numpy as np\n",
    "import math\n",
    "import re"
   ]
  },
  {
   "cell_type": "code",
   "execution_count": 2,
   "metadata": {
    "scrolled": false
   },
   "outputs": [
    {
     "data": {
      "text/html": [
       "<div>\n",
       "<style scoped>\n",
       "    .dataframe tbody tr th:only-of-type {\n",
       "        vertical-align: middle;\n",
       "    }\n",
       "\n",
       "    .dataframe tbody tr th {\n",
       "        vertical-align: top;\n",
       "    }\n",
       "\n",
       "    .dataframe thead th {\n",
       "        text-align: right;\n",
       "    }\n",
       "</style>\n",
       "<table border=\"1\" class=\"dataframe\">\n",
       "  <thead>\n",
       "    <tr style=\"text-align: right;\">\n",
       "      <th></th>\n",
       "      <th>attr</th>\n",
       "      <th>charge</th>\n",
       "      <th>id</th>\n",
       "      <th>mode</th>\n",
       "      <th>name</th>\n",
       "      <th>race</th>\n",
       "      <th>rare</th>\n",
       "      <th>skill1</th>\n",
       "      <th>skill2</th>\n",
       "      <th>skill3</th>\n",
       "    </tr>\n",
       "  </thead>\n",
       "  <tbody>\n",
       "    <tr>\n",
       "      <th>435</th>\n",
       "      <td>NaN</td>\n",
       "      <td>連擊 (Combo) 達 4 或以上</td>\n",
       "      <td>436</td>\n",
       "      <td>1</td>\n",
       "      <td>初心威嚇龍紋</td>\n",
       "      <td>NaN</td>\n",
       "      <td>3</td>\n",
       "      <td>1 回合內，隊伍攻擊力提升 10%</td>\n",
       "      <td>1 回合內，隊伍回復力提升 30%</td>\n",
       "      <td>延遲全體敵人行動 1 回合</td>\n",
       "    </tr>\n",
       "    <tr>\n",
       "      <th>436</th>\n",
       "      <td>NaN</td>\n",
       "      <td>連擊 (Combo) 達 4 或以上</td>\n",
       "      <td>437</td>\n",
       "      <td>1</td>\n",
       "      <td>初心圖騰龍紋</td>\n",
       "      <td>NaN</td>\n",
       "      <td>3</td>\n",
       "      <td>1 回合內，隊伍攻擊力提升 10%</td>\n",
       "      <td>1 回合內，隊伍回復力提升 30%</td>\n",
       "      <td>1 回合內，25% 的攻擊傷害無視指定形狀盾</td>\n",
       "    </tr>\n",
       "    <tr>\n",
       "      <th>437</th>\n",
       "      <td>NaN</td>\n",
       "      <td>連擊 (Combo) 達 4 或以上</td>\n",
       "      <td>438</td>\n",
       "      <td>1</td>\n",
       "      <td>初心衝鋒龍紋</td>\n",
       "      <td>NaN</td>\n",
       "      <td>3</td>\n",
       "      <td>1 回合內，隊伍攻擊力提升 10%</td>\n",
       "      <td>1 回合內，隊伍回復力提升 30%</td>\n",
       "      <td>1 回合內，25% 的攻擊傷害無視攻前盾</td>\n",
       "    </tr>\n",
       "    <tr>\n",
       "      <th>438</th>\n",
       "      <td>NaN</td>\n",
       "      <td>連擊 (Combo) 達 4 或以上</td>\n",
       "      <td>439</td>\n",
       "      <td>1</td>\n",
       "      <td>初心復生龍紋</td>\n",
       "      <td>NaN</td>\n",
       "      <td>3</td>\n",
       "      <td>1 回合內，隊伍攻擊力提升 10%</td>\n",
       "      <td>1 回合內，隊伍回復力提升 30%</td>\n",
       "      <td>1 回合內，完全回復生命力</td>\n",
       "    </tr>\n",
       "    <tr>\n",
       "      <th>439</th>\n",
       "      <td>NaN</td>\n",
       "      <td>連擊 (Combo) 達 4 或以上</td>\n",
       "      <td>440</td>\n",
       "      <td>1</td>\n",
       "      <td>初心越時龍紋</td>\n",
       "      <td>NaN</td>\n",
       "      <td>3</td>\n",
       "      <td>1 回合內，隊伍攻擊力提升 10%</td>\n",
       "      <td>1 回合內，隊伍回復力提升 30%</td>\n",
       "      <td>隨機 3 個人類成員的技能 CD 減少 1</td>\n",
       "    </tr>\n",
       "  </tbody>\n",
       "</table>\n",
       "</div>"
      ],
      "text/plain": [
       "    attr              charge   id  mode    name race  rare             skill1  \\\n",
       "435  NaN  連擊 (Combo) 達 4 或以上  436     1  初心威嚇龍紋  NaN     3  1 回合內，隊伍攻擊力提升 10%   \n",
       "436  NaN  連擊 (Combo) 達 4 或以上  437     1  初心圖騰龍紋  NaN     3  1 回合內，隊伍攻擊力提升 10%   \n",
       "437  NaN  連擊 (Combo) 達 4 或以上  438     1  初心衝鋒龍紋  NaN     3  1 回合內，隊伍攻擊力提升 10%   \n",
       "438  NaN  連擊 (Combo) 達 4 或以上  439     1  初心復生龍紋  NaN     3  1 回合內，隊伍攻擊力提升 10%   \n",
       "439  NaN  連擊 (Combo) 達 4 或以上  440     1  初心越時龍紋  NaN     3  1 回合內，隊伍攻擊力提升 10%   \n",
       "\n",
       "                skill2                  skill3  \n",
       "435  1 回合內，隊伍回復力提升 30%           延遲全體敵人行動 1 回合  \n",
       "436  1 回合內，隊伍回復力提升 30%  1 回合內，25% 的攻擊傷害無視指定形狀盾  \n",
       "437  1 回合內，隊伍回復力提升 30%    1 回合內，25% 的攻擊傷害無視攻前盾  \n",
       "438  1 回合內，隊伍回復力提升 30%           1 回合內，完全回復生命力  \n",
       "439  1 回合內，隊伍回復力提升 30%   隨機 3 個人類成員的技能 CD 減少 1  "
      ]
     },
     "metadata": {},
     "output_type": "display_data"
    }
   ],
   "source": [
    "df_crafts = pd.read_csv('crafts.csv', encoding='utf-8')\n",
    "display(df_crafts.tail())"
   ]
  },
  {
   "cell_type": "markdown",
   "metadata": {},
   "source": [
    "## Translate string to value"
   ]
  },
  {
   "cell_type": "code",
   "execution_count": 3,
   "metadata": {},
   "outputs": [],
   "source": [
    "def Cno_format(no):\n",
    "    if no < 10:\n",
    "        str_no = str(no).zfill(2)\n",
    "    else:\n",
    "        str_no = str(no)\n",
    "    return str_no"
   ]
  },
  {
   "cell_type": "code",
   "execution_count": 4,
   "metadata": {},
   "outputs": [],
   "source": [
    "def series_to_string(craft):\n",
    "    for i, v in craft.iteritems():\n",
    "        if isinstance(v, str) is False:\n",
    "            if math.isnan(v):\n",
    "                craft[i] = \"0\"\n",
    "            else:\n",
    "                craft[i] = str(craft[i])\n",
    "    craft[\"attr\"] = attr_to_value(craft[\"attr\"])\n",
    "    craft[\"race\"] = race_to_value(craft[\"race\"])\n",
    "    craft[\"charge\"] = charge_to_value(craft[\"charge\"])\n",
    "    craft[\"skilltype\"] = find_skill_types(craft)\n",
    "    return craft"
   ]
  },
  {
   "cell_type": "code",
   "execution_count": 5,
   "metadata": {},
   "outputs": [],
   "source": [
    "def attr_to_value(s):\n",
    "    attr = [\"水\", \"火\", \"木\", \"光\", \"暗\"]\n",
    "    str2 = 0\n",
    "    for i in range(5):\n",
    "        if s == attr[i]:\n",
    "            str2 = i+1\n",
    "    str2 = str(str2)\n",
    "    return str2"
   ]
  },
  {
   "cell_type": "code",
   "execution_count": 6,
   "metadata": {},
   "outputs": [],
   "source": [
    "def race_to_value(s):\n",
    "    race = [\"人類\", \"獸類\", \"神族\", \"龍類\", \"妖精類\", \"魔族\", \"機械族\"]\n",
    "    str2 = 0\n",
    "    for i in range(7):\n",
    "        if s == race[i]:\n",
    "            str2 = i+1\n",
    "    str2 = str(str2)\n",
    "    return str2"
   ]
  },
  {
   "cell_type": "code",
   "execution_count": 7,
   "metadata": {},
   "outputs": [],
   "source": [
    "def charge_to_value(s):\n",
    "    charge = [\"任何符石\", \"水符石\", \"火符石\", \"木符石\", \"光符石\", \"暗符石\", \"心符石\", \"發動攻擊\", \"受到攻擊\", \"連擊\"]\n",
    "    str2 = 0\n",
    "    for i in range(10):\n",
    "        result = re.search(charge[i], s)\n",
    "        if result is not None:\n",
    "            str2 = i+1\n",
    "    str2 = str(str2)\n",
    "    return str2"
   ]
  },
  {
   "cell_type": "markdown",
   "metadata": {},
   "source": [
    "## Classifying skill type"
   ]
  },
  {
   "cell_type": "code",
   "execution_count": 8,
   "metadata": {},
   "outputs": [],
   "source": [
    "def find_skill_type(s):\n",
    "    skill_set = set()\n",
    "    skill_type = ['攻擊力(.*)提升', '回復力(.*)提升', '回復(.*)生命力','轉化為我方生命力',\n",
    "                  '轉化(.*)符石',\n",
    "                  '屬性相剋', 'CD', \n",
    "                  '減少所受傷害', '迴避', '所受傷害不會使你死亡', '延遲',\n",
    "                  '造成(.*)', '造成(.*)此傷害無視防禦力',\n",
    "                  '無視(.*)指定形狀盾', '無視(.*)五屬盾', '無視(.*)攻前盾',\n",
    "                  '防禦力下降', '無視全體敵人(.*)防禦力', '追打', '反擊', '單體攻擊轉化為全體攻擊',\n",
    "                  '最多(.*)轉化(.*)水符石', '最多(.*)轉化(.*)火符石', '最多(.*)轉化(.*)木符石',\n",
    "                  '最多(.*)轉化(.*)光符石', '最多(.*)轉化(.*)暗符石', '最多(.*)轉化(.*)心符石', \n",
    "                  '直行(.*)水符石', '直行(.*)火符石', '直行(.*)木符石', '直行(.*)光符石', '直行(.*)暗符石', '直行(.*)心符石',\n",
    "                  '場上的(.*)轉化(.*)水符石', '場上的(.*)轉化(.*)火符石', '場上的(.*)轉化(.*)木符石', \n",
    "                  '場上的(.*)轉化(.*)光符石', '場上的(.*)轉化(.*)暗符石', '場上的(.*)轉化(.*)心符石']\n",
    "    for i in range(len(skill_type)):\n",
    "        skill = skill_type[i]\n",
    "        pattern_detail = r'(.*)' + skill + r'(.*)'\n",
    "        s2 = re.search(pattern_detail, s)\n",
    "        if s2 is not None:\n",
    "            skill_set.add(str(i+1))\n",
    "    return skill_set"
   ]
  },
  {
   "cell_type": "code",
   "execution_count": 9,
   "metadata": {},
   "outputs": [],
   "source": [
    "def find_skill_types(craft):\n",
    "    skill_set = set()\n",
    "    skill_str = craft['skill1']\n",
    "    skill_set |= find_skill_type(skill_str)\n",
    "    skill_str = craft['skill2']\n",
    "    if isinstance(skill_str, str) is True:\n",
    "        skill_set |= find_skill_type(skill_str)\n",
    "    skill_str = craft['skill3']\n",
    "    if isinstance(skill_str, str) is True:\n",
    "        skill_set |= find_skill_type(skill_str)\n",
    "    skilltype_str = \" \".join(skill_set)\n",
    "    return skilltype_str"
   ]
  },
  {
   "cell_type": "code",
   "execution_count": 10,
   "metadata": {},
   "outputs": [],
   "source": [
    "def data_to_wikitext(craft):\n",
    "    str_Cno = Cno_format(int(craft[\"id\"]))\n",
    "    str_craft = \"<div data-id=\\\"\" + craft[\"id\"] + \"\\\"\" + \" data-star=\\\"\" + craft[\"rare\"] + \"\\\"\" \\\n",
    "    + \" data-attribute=\\\"\" + craft[\"attr\"] + \"\\\"\" + \" data-racialtype=\\\"\" + craft[\"race\"] + \"\\\"\" \\\n",
    "    + \" data-mode=\\\"\" + craft[\"mode\"] + \"\\\"\" + \" data-charge=\\\"\"  + craft[\"charge\"] + \"\\\"\" \\\n",
    "    + \" data-skilltype=\\\"\" + craft[\"skilltype\"] + \"\\\"\" \\\n",
    "    + \" data-skilltype2=\\\"\" + craft[\"skilltype\"] + \"\\\"\" \\\n",
    "    + \">{{CraftDesc|C\" + str_Cno + \"|\" + craft[\"name\"] + \"}}\" + \"</div>\\n\"\n",
    "    return str_craft"
   ]
  },
  {
   "cell_type": "code",
   "execution_count": 11,
   "metadata": {},
   "outputs": [],
   "source": [
    "str_all =\"\"\n",
    "for index, row in df_crafts.iterrows():\n",
    "    row2 = series_to_string(row)\n",
    "    str_craft = data_to_wikitext(row2)\n",
    "#     print(str_craft)\n",
    "    str_all += str_craft\n",
    "# print(str_all)\n"
   ]
  },
  {
   "cell_type": "code",
   "execution_count": 12,
   "metadata": {},
   "outputs": [],
   "source": [
    "text_file = open(\"to_wikia_craft.txt\", \"w\")\n",
    "text_file.write(str_all)\n",
    "text_file.close()"
   ]
  },
  {
   "cell_type": "code",
   "execution_count": null,
   "metadata": {},
   "outputs": [],
   "source": []
  }
 ],
 "metadata": {
  "kernelspec": {
   "display_name": "Python 3",
   "language": "python",
   "name": "python3"
  },
  "language_info": {
   "codemirror_mode": {
    "name": "ipython",
    "version": 3
   },
   "file_extension": ".py",
   "mimetype": "text/x-python",
   "name": "python",
   "nbconvert_exporter": "python",
   "pygments_lexer": "ipython3",
   "version": "3.7.5"
  }
 },
 "nbformat": 4,
 "nbformat_minor": 2
}
